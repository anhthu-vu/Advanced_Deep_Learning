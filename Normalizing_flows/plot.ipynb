{
 "cells": [
  {
   "cell_type": "code",
   "execution_count": null,
   "id": "708133b0-2f69-4df1-ac61-ac572eed909b",
   "metadata": {},
   "outputs": [],
   "source": [
    "from utils import *"
   ]
  },
  {
   "cell_type": "code",
   "execution_count": null,
   "id": "318ef940-74bc-45af-ba7d-f2273be1cebb",
   "metadata": {},
   "outputs": [],
   "source": [
    "state = State.load(Path('GlowModel.pth'))\n",
    "model = state.model"
   ]
  },
  {
   "cell_type": "code",
   "execution_count": null,
   "id": "695bd638-fd92-4e8d-917b-904fa882453b",
   "metadata": {},
   "outputs": [],
   "source": [
    "z = prior.sample(torch.Size([2000]))\n",
    "samples = [('data', data), ('dist', z)]"
   ]
  },
  {
   "cell_type": "code",
   "execution_count": null,
   "id": "d7d71a61-d1a6-4db8-ad8a-ddb64db95b70",
   "metadata": {},
   "outputs": [],
   "source": [
    "module_names = model.modulenames(decoder=True)"
   ]
  },
  {
   "cell_type": "code",
   "execution_count": null,
   "id": "a2a6663f-c740-4fc6-a04f-89097f54a5b2",
   "metadata": {},
   "outputs": [],
   "source": [
    "for i in range(24):\n",
    "    (z, ), _ = model.flows[23-i].decoder(z)\n",
    "    samples.append((module_names[i], z))"
   ]
  },
  {
   "cell_type": "code",
   "execution_count": null,
   "id": "a3477aa9-8d33-4ce6-b6f3-aa3e5ebec636",
   "metadata": {},
   "outputs": [],
   "source": [
    "%matplotlib inline"
   ]
  },
  {
   "cell_type": "code",
   "execution_count": null,
   "id": "f5e57d83-3f10-4bbd-b70d-8f603e5dd9a6",
   "metadata": {},
   "outputs": [],
   "source": [
    "scatterplots(samples)"
   ]
  }
 ],
 "metadata": {
  "kernelspec": {
   "display_name": "Python 3 (ipykernel)",
   "language": "python",
   "name": "python3"
  },
  "language_info": {
   "codemirror_mode": {
    "name": "ipython",
    "version": 3
   },
   "file_extension": ".py",
   "mimetype": "text/x-python",
   "name": "python",
   "nbconvert_exporter": "python",
   "pygments_lexer": "ipython3",
   "version": "3.9.6"
  }
 },
 "nbformat": 4,
 "nbformat_minor": 5
}
